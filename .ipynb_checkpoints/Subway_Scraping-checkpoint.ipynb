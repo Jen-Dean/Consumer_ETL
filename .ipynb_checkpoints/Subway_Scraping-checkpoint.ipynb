{
 "cells": [
  {
   "cell_type": "code",
   "execution_count": null,
   "metadata": {},
   "outputs": [],
   "source": [
    "#dependencies\n",
    "\n",
    "\n",
    "from splinter import Browser\n",
    "from bs4 import BeautifulSoup\n",
    "from webdriver_manager.chrome import ChromeDriverManager\n",
    "import pandas as pd\n",
    "import requests\n"
   ]
  },
  {
   "cell_type": "code",
   "execution_count": null,
   "metadata": {},
   "outputs": [],
   "source": [
    "#splinter \n",
    "executable_path = {'executable_path': ChromeDriverManager().install()}\n",
    "browser = Browser('chrome', **executable_path, headless=False)\n"
   ]
  },
  {
   "cell_type": "code",
   "execution_count": null,
   "metadata": {},
   "outputs": [],
   "source": [
    "#url of page needed \n",
    "#SUBWAY url \n",
    "\n",
    "url = 'https://fastfoodnutrition.org/subway'\n",
    "\n",
    "#browse subway url\n",
    "\n",
    "browser.visit(url)"
   ]
  },
  {
   "cell_type": "code",
   "execution_count": null,
   "metadata": {},
   "outputs": [],
   "source": [
    "#html object here\n",
    "html = browser.html\n",
    "\n",
    "#html\n",
    "#boutifulsoup\n",
    "soup = BeautifulSoup(html, 'html.parser')\n"
   ]
  },
  {
   "cell_type": "code",
   "execution_count": null,
   "metadata": {},
   "outputs": [],
   "source": [
    "\n",
    "#print(soup.prettify())\n"
   ]
  },
  {
   "cell_type": "code",
   "execution_count": null,
   "metadata": {},
   "outputs": [],
   "source": [
    "#class- categories in category_19 collapse show\n",
    "subwa_sandwich = soup.find('div', class_ = 'categories in category_19 collapse show')\n",
    "subwa_sandwich = subwa_sandwich.ul"
   ]
  },
  {
   "cell_type": "code",
   "execution_count": null,
   "metadata": {},
   "outputs": [],
   "source": [
    "#getting anchor tags: \n",
    "\n",
    "subway_links = []\n",
    "\n",
    "\n",
    "for a in subwa_sandwich.find_all('a', href=True): \n",
    "        subway_links.append(a['href'])\n",
    "        \n",
    "\n",
    "        \n",
    "print('subway_sandwich:','--')\n",
    "print('\\n--------------------\\n')\n",
    "print(subway_links)\n",
    "print('\\n--------------------\\n')"
   ]
  },
  {
   "cell_type": "code",
   "execution_count": null,
   "metadata": {},
   "outputs": [],
   "source": [
    "#Subway 6' chipotle chicken and cheese\n",
    "\n",
    "#browser.visit('https://fastfoodnutrition.org/subway/6-chipotle-chicken-and-cheese')\n",
    "#html object here\n",
    "#html = browser.html\n",
    "\n",
    "#soup object: specific subway\n",
    "#sub_s = BeautifulSoup(html, 'html.parser')\n",
    "#data_subway = pd.read_html(browser.html)\n",
    "\n",
    "#subway_df = data_subway[0]\n",
    "#x_df = data_subway[0]\n",
    "#x_df"
   ]
  },
  {
   "cell_type": "code",
   "execution_count": null,
   "metadata": {},
   "outputs": [],
   "source": [
    "fastfood_link = 'https://fastfoodnutrition.org'\n",
    "food_links = [ ]\n"
   ]
  },
  {
   "cell_type": "code",
   "execution_count": null,
   "metadata": {},
   "outputs": [],
   "source": [
    "#path - fastfoodlink/link/size 6'' subwway\n",
    "\n",
    "for link in subway_links:\n",
    "    print('\\n--------\\n')\n",
    "    print(fastfood_link + link )\n",
    "    food_links.append(fastfood_link + link + '/6')"
   ]
  },
  {
   "cell_type": "code",
   "execution_count": null,
   "metadata": {},
   "outputs": [],
   "source": [
    "#FOCUS on size 6 subway sanwiches \n",
    "subs= \"https://fastfoodnutrition.org/subway/6\"\n",
    "\n",
    "#subway_list\n",
    "subway_list = list()\n",
    "\n",
    "for subs in food_links:\n",
    "    \n",
    "    subs = str(subs)\n",
    "    \n",
    "    browser.visit(subs)\n",
    "    \n",
    "    #object\n",
    "    html = browser.html\n",
    "    \n",
    "    #soup\n",
    "    subway_soup = BeautifulSoup(html, 'html.parser')\n",
    "\n",
    "#subway_soup.find('div', class_ = 'item_nutrition')\n",
    "#nutrion_table = subway_soup.find(\"nutrion_table\", attrs={\"class\": \"item_nutrition\"})\n",
    "#x = nutrion_table.tbody.find_all(\"tr\")    \n",
    "#\"class\" : \"item_nutrition\"\n",
    "    \n",
    "    subway_nutritions_facts = subway_soup.find('tbody')\n",
    "\n",
    "#scrapingg\n",
    "#sandwich name\n",
    "    title = subway_soup.find(\"div\", { \"id\" : \"nutrition_facts\"}).find_all('h2')[0].find('span').text\n",
    "\n",
    "    print ('title','\\n--------\\n', title,)\n",
    "    \n",
    "\n",
    "\n",
    "#mandatory: 7 items\n",
    "#calories, total fat, trans fat, cholestrol, total carbs, dietary fiber, protein\n",
    "\n",
    "    calories = subway_nutritions_facts.find_all('tr')[1].find_all('td')[1].text\n",
    "    print('calories: ','\\n--------\\n',  calories)\n",
    "    \n",
    "    total_fat = subway_nutritions_facts.find_all('tr')[4].find_all('td')[1].text\n",
    "    print('total_fat ','\\n--------\\n',  total_fat)\n",
    "    \n",
    "    trans_fat = subway_nutritions_facts.find_all('tr')[6].find_all('td')[1].text\n",
    "    print('trans_fat ','\\n--------\\n',  trans_fat)\n",
    "    \n",
    "    cholestrol = subway_nutritions_facts.find_all('tr')[7].find_all('td')[1].text\n",
    "    print('cholestrol ','\\n--------\\n', cholestrol)\n",
    "    \n",
    "    total_carbohydrates = subway_nutritions_facts.find_all('tr')[9].find_all('td')[1].text\n",
    "    print('total_carbohydrates','\\n--------\\n', total_carbohydrates)\n",
    "    \n",
    "    dietary_fiber = subway_nutritions_facts.find_all('tr')[10].find_all('td')[1].text\n",
    "    print('dietary_fiber ','\\n--------\\n', dietary_fiber)\n",
    "    \n",
    "    protein = subway_nutritions_facts.find_all('tr')[11].find_all('td')[1].text\n",
    "    print('protein ','\\n--------\\n', protein)\n",
    "    \n",
    "    subway_list.append({\n",
    "                    'sandwich_name': title,\n",
    "                    'calories': calories,\n",
    "                    'total_fat': total_fat,\n",
    "                    'trans_fat': trans_fat,\n",
    "                    'cholestrol': cholestrol,\n",
    "                    'total_carbohydrates': total_carbohydrates,\n",
    "                    'dietary_fiber' : dietary_fiber,\n",
    "                    'protein': protein\n",
    "                    \n",
    "    })\n",
    "    "
   ]
  },
  {
   "cell_type": "code",
   "execution_count": null,
   "metadata": {},
   "outputs": [],
   "source": [
    "#Dataframe subway size: subway 6\"\n",
    "\n",
    "subway_df = pd.DataFrame(subway_list)\n",
    "\n",
    "subway_df.head(12)"
   ]
  },
  {
   "cell_type": "code",
   "execution_count": null,
   "metadata": {},
   "outputs": [],
   "source": [
    "\n",
    "#browser.quit()\n",
    "\n"
   ]
  },
  {
   "cell_type": "code",
   "execution_count": null,
   "metadata": {},
   "outputs": [],
   "source": [
    "\n",
    "#NEW SECTION\n",
    "\n"
   ]
  },
  {
   "cell_type": "code",
   "execution_count": null,
   "metadata": {},
   "outputs": [],
   "source": [
    "#adding colums such as sandwich_id , sandwich descriop , sandwich type etc\n",
    "\n",
    "\n",
    "h_list = ['sandwich_name','calories', 'total_fat', 'trans_fat', 'cholestrol', 'total_carbohydrates', 'dietary_fiber', 'protein', 'sodium', 'sandwich_id', 'sugars', 'restaurant_name', 'bread_type', 'sandwich_length', 'sandwich_type', 'saturated_fat', 'sandwich_description']\n",
    "new_subway_df = subway_df.reindex(columns = h_list)\n",
    "new_subway_df\n",
    "\n"
   ]
  },
  {
   "cell_type": "code",
   "execution_count": null,
   "metadata": {},
   "outputs": [],
   "source": [
    "#removing \\n  from total fat, trans fat, total carbas, dietary fiber, protein , calories etc\n",
    "\n",
    "new_subway_df = new_subway_df.replace('\\n', '', regex = True)\n",
    "new_subway_df"
   ]
  },
  {
   "cell_type": "code",
   "execution_count": null,
   "metadata": {},
   "outputs": [],
   "source": [
    "#removing grams from total fat, trans fat, cholestrol, total\n",
    "\n",
    "transformed_df = new_subway_df.replace('g', '', regex = True)\n",
    "transformed_df\n"
   ]
  },
  {
   "cell_type": "code",
   "execution_count": null,
   "metadata": {},
   "outputs": [],
   "source": [
    "# removing m \n",
    "\n",
    "last_df = transformed_df.replace('m', '', regex = True)\n",
    "last_df"
   ]
  },
  {
   "cell_type": "code",
   "execution_count": null,
   "metadata": {},
   "outputs": [],
   "source": [
    "# csv\n",
    "\n"
   ]
  },
  {
   "cell_type": "code",
   "execution_count": null,
   "metadata": {},
   "outputs": [],
   "source": []
  },
  {
   "cell_type": "code",
   "execution_count": null,
   "metadata": {},
   "outputs": [],
   "source": []
  },
  {
   "cell_type": "code",
   "execution_count": null,
   "metadata": {},
   "outputs": [],
   "source": []
  }
 ],
 "metadata": {
  "kernelspec": {
   "display_name": "Python 3",
   "language": "python",
   "name": "python3"
  },
  "language_info": {
   "codemirror_mode": {
    "name": "ipython",
    "version": 3
   },
   "file_extension": ".py",
   "mimetype": "text/x-python",
   "name": "python",
   "nbconvert_exporter": "python",
   "pygments_lexer": "ipython3",
   "version": "3.6.10"
  }
 },
 "nbformat": 4,
 "nbformat_minor": 4
}
