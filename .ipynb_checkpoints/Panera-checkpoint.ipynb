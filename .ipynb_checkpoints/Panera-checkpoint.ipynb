{
 "cells": [
  {
   "cell_type": "code",
   "execution_count": 1,
   "metadata": {},
   "outputs": [],
   "source": [
    "# import dependencies\n",
    "import requests\n",
    "from splinter import Browser\n",
    "from bs4 import BeautifulSoup as bs"
   ]
  },
  {
   "cell_type": "code",
   "execution_count": 2,
   "metadata": {},
   "outputs": [],
   "source": [
    "#Open the browser of which we want to extract and contains panera nutrition information\n",
    "\n",
    "executable_path = {'executable_path': 'chromedriver.exe'}\n",
    "browser = Browser('chrome', **executable_path, headless=False)\n",
    "url = 'https://fastfoodnutrition.org/panera-bread'\n",
    "browser.visit(url)\n",
    "html = browser.html"
   ]
  },
  {
   "cell_type": "code",
   "execution_count": 3,
   "metadata": {},
   "outputs": [],
   "source": [
    "soup = bs(html, 'html.parser')"
   ]
  },
  {
   "cell_type": "code",
   "execution_count": 10,
   "metadata": {},
   "outputs": [],
   "source": [
    "Sandwiches = soup.find('div', class_=\"categories in category_296 collapse show\")\n",
    "Sandwiches = Sandwiches.ul\n"
   ]
  },
  {
   "cell_type": "code",
   "execution_count": 12,
   "metadata": {},
   "outputs": [
    {
     "name": "stdout",
     "output_type": "stream",
     "text": [
      "['/panera-bread/chipotle-bacon-melt', '/panera-bread/chipotle-chicken-avocado-melt', '/panera-bread/chipotle-chicken-avocado-melt', '/panera-bread/classic-grilled-cheese-on-all-natural-white-miche', '/panera-bread/frontega-chicken-panini', '/panera-bread/full-bacon-turkey-bravo-on-xl-tomato-basil', '/panera-bread/full-napa-almond-chicken-salad-on-sesame-semolina', '/panera-bread/full-roasted-turkey-avocado-blt-on-sourdough', '/panera-bread/half-bacon-turkey-bravo-on-xl-tomato-basil', '/panera-bread/half-napa-almond-chicken-salad-on-sesame-semolina', '/panera-bread/half-roasted-turkey-avocado-blt-on-sourdough', '/panera-bread/smoked-ham-swiss-on-rye', '/panera-bread/mediterranean-veggie-on-xl-tomato-basil', '/panera-bread/modern-caprese-sandwich', '/panera-bread/smokehouse-bbq-chicken-sandwich', '/panera-bread/steak-white-cheddar-panini', '/panera-bread/teriyaki-chicken-sandwich', '/panera-bread/tuna-salad-on-honey-wheat']\n"
     ]
    }
   ],
   "source": [
    "# Find all the anchor tags that has href attribute\n",
    "\n",
    "retrieved_links = [a.get('href') for a in Sandwiches.find_all('a', href=True)]\n",
    "print(retrieved_links)"
   ]
  },
  {
   "cell_type": "code",
   "execution_count": 13,
   "metadata": {},
   "outputs": [
    {
     "name": "stdout",
     "output_type": "stream",
     "text": [
      "https://fastfoodnutrition.org//panera-bread/chipotle-bacon-melt\n",
      "https://fastfoodnutrition.org//panera-bread/chipotle-chicken-avocado-melt\n",
      "https://fastfoodnutrition.org//panera-bread/chipotle-chicken-avocado-melt\n",
      "https://fastfoodnutrition.org//panera-bread/classic-grilled-cheese-on-all-natural-white-miche\n",
      "https://fastfoodnutrition.org//panera-bread/frontega-chicken-panini\n",
      "https://fastfoodnutrition.org//panera-bread/full-bacon-turkey-bravo-on-xl-tomato-basil\n",
      "https://fastfoodnutrition.org//panera-bread/full-napa-almond-chicken-salad-on-sesame-semolina\n",
      "https://fastfoodnutrition.org//panera-bread/full-roasted-turkey-avocado-blt-on-sourdough\n",
      "https://fastfoodnutrition.org//panera-bread/half-bacon-turkey-bravo-on-xl-tomato-basil\n",
      "https://fastfoodnutrition.org//panera-bread/half-napa-almond-chicken-salad-on-sesame-semolina\n",
      "https://fastfoodnutrition.org//panera-bread/half-roasted-turkey-avocado-blt-on-sourdough\n",
      "https://fastfoodnutrition.org//panera-bread/smoked-ham-swiss-on-rye\n",
      "https://fastfoodnutrition.org//panera-bread/mediterranean-veggie-on-xl-tomato-basil\n",
      "https://fastfoodnutrition.org//panera-bread/modern-caprese-sandwich\n",
      "https://fastfoodnutrition.org//panera-bread/smokehouse-bbq-chicken-sandwich\n",
      "https://fastfoodnutrition.org//panera-bread/steak-white-cheddar-panini\n",
      "https://fastfoodnutrition.org//panera-bread/teriyaki-chicken-sandwich\n",
      "https://fastfoodnutrition.org//panera-bread/tuna-salad-on-honey-wheat\n"
     ]
    }
   ],
   "source": [
    "\n",
    "link_source = \"https://fastfoodnutrition.org/\"\n",
    "links = []\n",
    "for link in retrieved_links:\n",
    "    print(link_source + link)\n",
    "    links.append(link_source + link)\n"
   ]
  },
  {
   "cell_type": "code",
   "execution_count": 8,
   "metadata": {},
   "outputs": [
    {
     "name": "stdout",
     "output_type": "stream",
     "text": [
      "['https://fastfoodnutrition.org//panera-bread/chipotle-bacon-melt', 'https://fastfoodnutrition.org//panera-bread/chipotle-chicken-avocado-melt', 'https://fastfoodnutrition.org//panera-bread/chipotle-chicken-avocado-melt', 'https://fastfoodnutrition.org//panera-bread/classic-grilled-cheese-on-all-natural-white-miche', 'https://fastfoodnutrition.org//panera-bread/frontega-chicken-panini', 'https://fastfoodnutrition.org//panera-bread/full-bacon-turkey-bravo-on-xl-tomato-basil', 'https://fastfoodnutrition.org//panera-bread/full-napa-almond-chicken-salad-on-sesame-semolina', 'https://fastfoodnutrition.org//panera-bread/full-roasted-turkey-avocado-blt-on-sourdough', 'https://fastfoodnutrition.org//panera-bread/half-bacon-turkey-bravo-on-xl-tomato-basil', 'https://fastfoodnutrition.org//panera-bread/half-napa-almond-chicken-salad-on-sesame-semolina', 'https://fastfoodnutrition.org//panera-bread/half-roasted-turkey-avocado-blt-on-sourdough', 'https://fastfoodnutrition.org//panera-bread/smoked-ham-swiss-on-rye', 'https://fastfoodnutrition.org//panera-bread/mediterranean-veggie-on-xl-tomato-basil', 'https://fastfoodnutrition.org//panera-bread/modern-caprese-sandwich', 'https://fastfoodnutrition.org//panera-bread/smokehouse-bbq-chicken-sandwich', 'https://fastfoodnutrition.org//panera-bread/steak-white-cheddar-panini', 'https://fastfoodnutrition.org//panera-bread/teriyaki-chicken-sandwich', 'https://fastfoodnutrition.org//panera-bread/tuna-salad-on-honey-wheat']\n"
     ]
    }
   ],
   "source": [
    "print(links)"
   ]
  }
 ],
 "metadata": {
  "kernelspec": {
   "display_name": "Python 3",
   "language": "python",
   "name": "python3"
  },
  "language_info": {
   "codemirror_mode": {
    "name": "ipython",
    "version": 3
   },
   "file_extension": ".py",
   "mimetype": "text/x-python",
   "name": "python",
   "nbconvert_exporter": "python",
   "pygments_lexer": "ipython3",
   "version": "3.6.10"
  }
 },
 "nbformat": 4,
 "nbformat_minor": 4
}
