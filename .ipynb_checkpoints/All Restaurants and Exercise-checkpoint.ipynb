{
 "cells": [
  {
   "cell_type": "code",
   "execution_count": 1,
   "metadata": {},
   "outputs": [],
   "source": [
    "#import dependencies\n",
    "import pandas as pd\n",
    "import os\n",
    "from sqlalchemy import create_engine\n",
    "from config import postgres_pwd"
   ]
  },
  {
   "cell_type": "code",
   "execution_count": 4,
   "metadata": {},
   "outputs": [],
   "source": [
    "#pull all CSV files for restaurants\n",
    "\n",
    "#Panera\n",
    "panera_df = pd.read_csv(\"Panera/Panera_Nutrition_Facts.csv\")\n",
    "#Jimmy Johns\n",
    "jj_df = pd.read_csv(\"JimmyJohns/Jimmy_Johns_Nutrition.csv\")\n",
    "#Quiznos\n",
    "quiznos_df = pd.read_csv(\"Quiznos/Quiznos CSVs/quiznos_final.csv\")\n",
    "#subway\n",
    "\n"
   ]
  },
  {
   "cell_type": "code",
   "execution_count": null,
   "metadata": {},
   "outputs": [],
   "source": [
    "#combine all csv files"
   ]
  }
 ],
 "metadata": {
  "kernelspec": {
   "display_name": "Python 3",
   "language": "python",
   "name": "python3"
  },
  "language_info": {
   "codemirror_mode": {
    "name": "ipython",
    "version": 3
   },
   "file_extension": ".py",
   "mimetype": "text/x-python",
   "name": "python",
   "nbconvert_exporter": "python",
   "pygments_lexer": "ipython3",
   "version": "3.7.8"
  }
 },
 "nbformat": 4,
 "nbformat_minor": 4
}
