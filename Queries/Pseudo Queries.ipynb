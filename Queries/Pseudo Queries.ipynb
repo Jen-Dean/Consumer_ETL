{
 "cells": [
  {
   "cell_type": "code",
   "execution_count": null,
   "metadata": {},
   "outputs": [],
   "source": [
    "SELECT * FROM sandwiches\n",
    "\n",
    "SELECT * FROM exercises"
   ]
  },
  {
   "cell_type": "code",
   "execution_count": null,
   "metadata": {},
   "outputs": [],
   "source": [
    "SELECT calories FROM sandwiches\n",
    "WHERE calories < 500"
   ]
  },
  {
   "cell_type": "code",
   "execution_count": null,
   "metadata": {},
   "outputs": [],
   "source": [
    "SELECT calories FROM sandwiches\n",
    "WHERE calories < 500 AND\n",
    "WHERE protein > 10"
   ]
  },
  {
   "cell_type": "code",
   "execution_count": null,
   "metadata": {},
   "outputs": [],
   "source": [
    "SELECT sandwich_name FROM sandwiches\n",
    "WHERE restaurant_name = \"Jimmy Johns\""
   ]
  },
  {
   "cell_type": "code",
   "execution_count": null,
   "metadata": {},
   "outputs": [],
   "source": [
    "SELECT sandwich_name FROM sandwiches\n",
    "WHERE restaurant_name = \"Quiznos\""
   ]
  },
  {
   "cell_type": "code",
   "execution_count": null,
   "metadata": {},
   "outputs": [],
   "source": [
    "SELECT sandwich_name FROM sandwiches\n",
    "WHERE restaurant_name = \"Subway\""
   ]
  },
  {
   "cell_type": "code",
   "execution_count": null,
   "metadata": {},
   "outputs": [],
   "source": [
    "SELECT sandwich_name FROM sandwiches\n",
    "WHERE restaurant_name = \"Panera\""
   ]
  },
  {
   "cell_type": "code",
   "execution_count": null,
   "metadata": {},
   "outputs": [],
   "source": [
    "SELECT exercise_type FROM exercises\n",
    "WHERE cal_per_min_155lbs >= 10"
   ]
  },
  {
   "cell_type": "code",
   "execution_count": null,
   "metadata": {},
   "outputs": [],
   "source": [
    "SELECT exercise_type FROM exercises\n",
    "WHERE cal_per_min_130lbs >= 10"
   ]
  },
  {
   "cell_type": "code",
   "execution_count": null,
   "metadata": {},
   "outputs": [],
   "source": [
    "SELECT exercise_type FROM exercises\n",
    "WHERE cal_per_min_180lbs >= 10"
   ]
  },
  {
   "cell_type": "code",
   "execution_count": null,
   "metadata": {},
   "outputs": [],
   "source": [
    "SELECT exercise_type FROM exercises\n",
    "WHERE cal_per_min_205lbs >= 10"
   ]
  },
  {
   "cell_type": "code",
   "execution_count": null,
   "metadata": {},
   "outputs": [],
   "source": [
    "---------------------------------------------\n",
    "# I ate 430 cal sandwich - I weigh 130 lbs - What are my exercise options?\n",
    "# RETURN - Exercise & Total Mins I need to Work \n",
    "# Y_cal_burned * X_MIN = 430 <<<< ??? \n",
    "---------------------------------------------\n",
    "\n",
    "# I ate 430 cal sandwich - I weigh 130 lbs - I only want to work out for 30 min - What are my exercise options?\n",
    "# RETURN - Exercise & Total Mins I need to Work \n",
    "\n",
    "\n",
    "# Y_Cal_per_min * 30 = 430 <<< OK\n",
    "\n",
    "# RETURN exercise IF cal_per_min_130lbs >= scal/30_min \n"
   ]
  },
  {
   "cell_type": "code",
   "execution_count": null,
   "metadata": {},
   "outputs": [],
   "source": [
    "SELECT exercise FROM exercise\n",
    "WHERE cal_per_min_130lbs >= 430/30"
   ]
  },
  {
   "cell_type": "code",
   "execution_count": null,
   "metadata": {},
   "outputs": [],
   "source": []
  },
  {
   "cell_type": "markdown",
   "metadata": {},
   "source": [
    "# Example Queries\n",
    "\n",
    "### Finding Sandwich options\n",
    "\n",
    "Here are some example queries you can run when looking for a specific sandwich name:\n",
    "\n",
    "#### Based on Restaurant:\n",
    "\n",
    "SELECT sandwich_name FROM sandwiches\n",
    "WHERE restaurant_name = \"Jimmy Johns\"\n",
    "\n",
    "SELECT sandwich_name FROM sandwiches\n",
    "WHERE restaurant_name = \"Quiznos\"\n",
    "\n",
    "SELECT sandwich_name FROM sandwiches\n",
    "WHERE restaurant_name = \"Subway\"\n",
    "\n",
    "SELECT sandwich_name FROM sandwiches\n",
    "WHERE restaurant_name = \"Panera\"\n",
    "\n",
    "#### Based on Nutrition Amounts:\n",
    "\n",
    "SELECT sandwich_name, restaurant_name, calories FROM sandwiches\n",
    "WHERE calories(cal) < 500\n",
    "\n",
    "SELECT sandwich_name, restaurant_name, calories, protein FROM sandwiches\n",
    "WHERE calories(cal) < 500 AND\n",
    "WHERE protein(grams) > 10\n",
    "\n",
    "SELECT sandwich_name, restaurant_name, calories, protein FROM sandwiches\n",
    "WHERE calories(cal) < 500 AND\n",
    "WHERE protein(grams) > 10 AND\n",
    "WHERE total_carbohydrates(mg)\n",
    "\n",
    "#### Based on Calories Burned per Min:\n",
    "\n",
    "SELECT exercise_type, cal_per_min_130lbs FROM exercises\n",
    "WHERE cal_per_min_130lbs >= 10\n",
    "\n",
    "SELECT exercise_type, cal_per_min_130lbs, cal_per_min_155lbs, cal_per_min_180lbs, cal_per_min_205lbs FROM exercises\n",
    "WHERE cal_per_min_130lbs >= 10 AND\n",
    "WHERE cal_per_min_155lbs >= 10 AND\n",
    "WHERE cal_per_min_180lbs >= 10 AND\n",
    "WHERE cal_per_min_205lbs >= 10\n",
    "\n",
    "#### Situationally Based:\n",
    "\n",
    "\"I ate a 430 calorie sandwich, I only have a 30 min lunch break to work off the sandwich - What are my exercise options?\"\n",
    "\n",
    "SELECT exercise_type, cal_per_min_130lbs, cal_per_min_155lbs, cal_per_min_180lbs, cal_per_min_205lbs FROM exercises\n",
    "WHERE cal_per_min_130lbs >= 430/30 \n",
    "\n",
    "\n",
    "\n"
   ]
  }
 ],
 "metadata": {
  "kernelspec": {
   "display_name": "Python 3",
   "language": "python",
   "name": "python3"
  },
  "language_info": {
   "codemirror_mode": {
    "name": "ipython",
    "version": 3
   },
   "file_extension": ".py",
   "mimetype": "text/x-python",
   "name": "python",
   "nbconvert_exporter": "python",
   "pygments_lexer": "ipython3",
   "version": "3.8.5"
  },
  "toc": {
   "base_numbering": 1,
   "nav_menu": {},
   "number_sections": true,
   "sideBar": true,
   "skip_h1_title": false,
   "title_cell": "Table of Contents",
   "title_sidebar": "Contents",
   "toc_cell": false,
   "toc_position": {},
   "toc_section_display": true,
   "toc_window_display": false
  },
  "varInspector": {
   "cols": {
    "lenName": 16,
    "lenType": 16,
    "lenVar": 40
   },
   "kernels_config": {
    "python": {
     "delete_cmd_postfix": "",
     "delete_cmd_prefix": "del ",
     "library": "var_list.py",
     "varRefreshCmd": "print(var_dic_list())"
    },
    "r": {
     "delete_cmd_postfix": ") ",
     "delete_cmd_prefix": "rm(",
     "library": "var_list.r",
     "varRefreshCmd": "cat(var_dic_list()) "
    }
   },
   "types_to_exclude": [
    "module",
    "function",
    "builtin_function_or_method",
    "instance",
    "_Feature"
   ],
   "window_display": false
  }
 },
 "nbformat": 4,
 "nbformat_minor": 4
}
