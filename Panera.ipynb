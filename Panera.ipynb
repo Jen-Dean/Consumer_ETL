{
 "cells": [
  {
   "cell_type": "code",
   "execution_count": 21,
   "metadata": {},
   "outputs": [],
   "source": [
    "# import dependencies\n",
    "import requests\n",
    "from splinter import Browser\n",
    "from bs4 import BeautifulSoup as bs"
   ]
  },
  {
   "cell_type": "code",
   "execution_count": 2,
   "metadata": {},
   "outputs": [],
   "source": [
    "#Open the browser of which we want to extract and contains panera nutrition information\n",
    "\n",
    "executable_path = {'executable_path': 'chromedriver.exe'}\n",
    "browser = Browser('chrome', **executable_path, headless=False)\n",
    "url = 'https://fastfoodnutrition.org/panera-bread'\n",
    "browser.visit(url)\n",
    "html = browser.html"
   ]
  },
  {
   "cell_type": "code",
   "execution_count": 3,
   "metadata": {},
   "outputs": [],
   "source": [
    "soup = bs(html, 'html.parser')"
   ]
  },
  {
   "cell_type": "code",
   "execution_count": 18,
   "metadata": {},
   "outputs": [
    {
     "name": "stdout",
     "output_type": "stream",
     "text": [
      "['/panera-bread/chipotle-bacon-melt', '/panera-bread/chipotle-chicken-avocado-melt', '/panera-bread/chipotle-chicken-avocado-melt', '/panera-bread/classic-grilled-cheese-on-all-natural-white-miche', '/panera-bread/frontega-chicken-panini', '/panera-bread/full-bacon-turkey-bravo-on-xl-tomato-basil', '/panera-bread/full-napa-almond-chicken-salad-on-sesame-semolina', '/panera-bread/full-roasted-turkey-avocado-blt-on-sourdough', '/panera-bread/half-bacon-turkey-bravo-on-xl-tomato-basil', '/panera-bread/half-napa-almond-chicken-salad-on-sesame-semolina', '/panera-bread/half-roasted-turkey-avocado-blt-on-sourdough', '/panera-bread/smoked-ham-swiss-on-rye', '/panera-bread/mediterranean-veggie-on-xl-tomato-basil', '/panera-bread/modern-caprese-sandwich', '/panera-bread/smokehouse-bbq-chicken-sandwich', '/panera-bread/steak-white-cheddar-panini', '/panera-bread/teriyaki-chicken-sandwich', '/panera-bread/tuna-salad-on-honey-wheat']\n"
     ]
    }
   ],
   "source": [
    "# Find all the anchor tags that has href attribute\n",
    "\n",
    "Sandwiches = soup.find('div', class_=\"categories in category_296 collapse show\")\n",
    "Sandwiches = Sandwiches.ul\n",
    "retrieved_links = [a.get('href') for a in Sandwiches.find_all('a', href=True)]\n",
    "print(retrieved_links)"
   ]
  },
  {
   "cell_type": "code",
   "execution_count": 34,
   "metadata": {},
   "outputs": [
    {
     "name": "stdout",
     "output_type": "stream",
     "text": [
      "https://fastfoodnutrition.org/panera-bread/chipotle-bacon-melt\n",
      "https://fastfoodnutrition.org/panera-bread/chipotle-chicken-avocado-melt\n",
      "https://fastfoodnutrition.org/panera-bread/chipotle-chicken-avocado-melt\n",
      "https://fastfoodnutrition.org/panera-bread/classic-grilled-cheese-on-all-natural-white-miche\n",
      "https://fastfoodnutrition.org/panera-bread/frontega-chicken-panini\n",
      "https://fastfoodnutrition.org/panera-bread/full-bacon-turkey-bravo-on-xl-tomato-basil\n",
      "https://fastfoodnutrition.org/panera-bread/full-napa-almond-chicken-salad-on-sesame-semolina\n",
      "https://fastfoodnutrition.org/panera-bread/full-roasted-turkey-avocado-blt-on-sourdough\n",
      "https://fastfoodnutrition.org/panera-bread/half-bacon-turkey-bravo-on-xl-tomato-basil\n",
      "https://fastfoodnutrition.org/panera-bread/half-napa-almond-chicken-salad-on-sesame-semolina\n",
      "https://fastfoodnutrition.org/panera-bread/half-roasted-turkey-avocado-blt-on-sourdough\n",
      "https://fastfoodnutrition.org/panera-bread/smoked-ham-swiss-on-rye\n",
      "https://fastfoodnutrition.org/panera-bread/mediterranean-veggie-on-xl-tomato-basil\n",
      "https://fastfoodnutrition.org/panera-bread/modern-caprese-sandwich\n",
      "https://fastfoodnutrition.org/panera-bread/smokehouse-bbq-chicken-sandwich\n",
      "https://fastfoodnutrition.org/panera-bread/steak-white-cheddar-panini\n",
      "https://fastfoodnutrition.org/panera-bread/teriyaki-chicken-sandwich\n",
      "https://fastfoodnutrition.org/panera-bread/tuna-salad-on-honey-wheat\n"
     ]
    }
   ],
   "source": [
    "#prepend the url soure\n",
    "link_source = \"https://fastfoodnutrition.org\"\n",
    "links = []\n",
    "for link in retrieved_links:\n",
    "    print(link_source + link)\n",
    "    links.append(link_source + link + \"/whole\")\n"
   ]
  },
  {
   "cell_type": "code",
   "execution_count": 35,
   "metadata": {},
   "outputs": [
    {
     "name": "stdout",
     "output_type": "stream",
     "text": [
      "['https://fastfoodnutrition.org/panera-bread/chipotle-bacon-melt/whole', 'https://fastfoodnutrition.org/panera-bread/chipotle-chicken-avocado-melt/whole', 'https://fastfoodnutrition.org/panera-bread/chipotle-chicken-avocado-melt/whole', 'https://fastfoodnutrition.org/panera-bread/classic-grilled-cheese-on-all-natural-white-miche/whole', 'https://fastfoodnutrition.org/panera-bread/frontega-chicken-panini/whole', 'https://fastfoodnutrition.org/panera-bread/full-bacon-turkey-bravo-on-xl-tomato-basil/whole', 'https://fastfoodnutrition.org/panera-bread/full-napa-almond-chicken-salad-on-sesame-semolina/whole', 'https://fastfoodnutrition.org/panera-bread/full-roasted-turkey-avocado-blt-on-sourdough/whole', 'https://fastfoodnutrition.org/panera-bread/half-bacon-turkey-bravo-on-xl-tomato-basil/whole', 'https://fastfoodnutrition.org/panera-bread/half-napa-almond-chicken-salad-on-sesame-semolina/whole', 'https://fastfoodnutrition.org/panera-bread/half-roasted-turkey-avocado-blt-on-sourdough/whole', 'https://fastfoodnutrition.org/panera-bread/smoked-ham-swiss-on-rye/whole', 'https://fastfoodnutrition.org/panera-bread/mediterranean-veggie-on-xl-tomato-basil/whole', 'https://fastfoodnutrition.org/panera-bread/modern-caprese-sandwich/whole', 'https://fastfoodnutrition.org/panera-bread/smokehouse-bbq-chicken-sandwich/whole', 'https://fastfoodnutrition.org/panera-bread/steak-white-cheddar-panini/whole', 'https://fastfoodnutrition.org/panera-bread/teriyaki-chicken-sandwich/whole', 'https://fastfoodnutrition.org/panera-bread/tuna-salad-on-honey-wheat/whole']\n"
     ]
    }
   ],
   "source": [
    "print(links)"
   ]
  },
  {
   "cell_type": "code",
   "execution_count": 48,
   "metadata": {},
   "outputs": [],
   "source": [
    "browser.visit('https://fastfoodnutrition.org/panera-bread/chipotle-bacon-melt/whole')\n",
    "html = browser.html\n",
    "nutrition_soup = bs(html, 'html.parser')\n"
   ]
  },
  {
   "cell_type": "code",
   "execution_count": 94,
   "metadata": {},
   "outputs": [
    {
     "name": "stdout",
     "output_type": "stream",
     "text": [
      "\n",
      "900\n",
      "\n",
      "\n",
      "27g\n",
      "\n"
     ]
    }
   ],
   "source": [
    "nutrition_table = nutrition_soup.find('tbody')\n",
    "\n",
    "# scrape calories\n",
    "Calories = nutrition_table.find_all('tr')[1].find_all('td')[1].text\n",
    "print(Calories)\n",
    "\n",
    "Total_Fat = nutrition_table.find_all('tr')[5].find_all('td')[1].text\n",
    "print(Total_Fat)\n"
   ]
  }
 ],
 "metadata": {
  "kernelspec": {
   "display_name": "Python 3",
   "language": "python",
   "name": "python3"
  },
  "language_info": {
   "codemirror_mode": {
    "name": "ipython",
    "version": 3
   },
   "file_extension": ".py",
   "mimetype": "text/x-python",
   "name": "python",
   "nbconvert_exporter": "python",
   "pygments_lexer": "ipython3",
   "version": "3.6.10"
  }
 },
 "nbformat": 4,
 "nbformat_minor": 4
}
