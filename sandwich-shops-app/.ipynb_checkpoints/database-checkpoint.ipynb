{
 "cells": [
  {
   "cell_type": "code",
   "execution_count": 3,
   "metadata": {},
   "outputs": [],
   "source": [
    "\n",
    "\n",
    "from config import postgres_pwd\n",
    "import sqlalchemy\n",
    "from sqlalchemy.ext.automap import automap_base\n",
    "from sqlalchemy.orm import Session\n",
    "from sqlalchemy import create_engine, func\n",
    "\n",
    "from flask import Flask, jsonify"
   ]
  },
  {
   "cell_type": "code",
   "execution_count": 6,
   "metadata": {},
   "outputs": [],
   "source": [
    "#################################################\n",
    "# Database Setup\n",
    "#################################################\n",
    "# engine = create_engine(\"sqlite:///titanic.sqlite\")\n",
    "rds_connection_string = f\"postgres:{postgres_pwd}@localhost:5432/programming_db\"\n",
    "engine = create_engine(f'postgresql://{rds_connection_string}')\n",
    "\n",
    "# reflect an existing database into a new model\n",
    "# Base = automap_base()\n",
    "# # reflect the tables\n",
    "# Base.prepare(engine, reflect=True)\n",
    "\n",
    "# # Save reference to the table\n",
    "# Passenger = Base.classes.passenger\n",
    "#################################################\n"
   ]
  },
  {
   "cell_type": "code",
   "execution_count": 11,
   "metadata": {},
   "outputs": [
    {
     "name": "stdout",
     "output_type": "stream",
     "text": [
      "(3, 'JQuery', 98, True)\n",
      "(4, 'MySQL', 70, True)\n",
      "(1, 'HTML', 90, True)\n",
      "(6, 'Python', 95, True)\n",
      "(7, 'Postgres', 99, True)\n",
      "(8, 'Java', 98, True)\n",
      "(2, 'JavaScript', 99, True)\n"
     ]
    }
   ],
   "source": [
    "results = engine.execute(\"select * from  programming_languages\")\n",
    "results_lst = []\n",
    "for result in results:\n",
    "    results_dict ={\n",
    "        'id' : result[0],\n",
    "        'language' : result[1],\n",
    "        'rating': result[2]\n",
    "    }\n",
    "    results_lst.append(results_dict)\n"
   ]
  },
  {
   "cell_type": "code",
   "execution_count": null,
   "metadata": {},
   "outputs": [],
   "source": [
    "#get it into the usable format\n"
   ]
  }
 ],
 "metadata": {
  "kernelspec": {
   "display_name": "Python 3",
   "language": "python",
   "name": "python3"
  },
  "language_info": {
   "codemirror_mode": {
    "name": "ipython",
    "version": 3
   },
   "file_extension": ".py",
   "mimetype": "text/x-python",
   "name": "python",
   "nbconvert_exporter": "python",
   "pygments_lexer": "ipython3",
   "version": "3.6.10"
  }
 },
 "nbformat": 4,
 "nbformat_minor": 4
}
